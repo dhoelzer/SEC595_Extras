{
 "cells": [
  {
   "cell_type": "code",
   "execution_count": 1,
   "id": "5efac30b-062a-4158-8f20-dc404ad02b25",
   "metadata": {},
   "outputs": [],
   "source": [
    "import tensorflow as tf\n",
    "import numpy as np\n",
    "from sklearn.ensemble import RandomForestClassifier\n",
    "import matplotlib.pyplot as plt\n",
    "\n",
    "def accuracy(y, y_hat):\n",
    "    correct = [y_hat[i] == y[i] for i in range(len(y_hat))]\n",
    "    correct = np.array([1 if i else 0 for i in correct])\n",
    "    accuracy = correct.sum()/len(y_hat)*100.0\n",
    "    return accuracy\n",
    "\n"
   ]
  },
  {
   "cell_type": "code",
   "execution_count": 5,
   "id": "6e0a43f3-08a5-40dd-94f2-b20388f8878f",
   "metadata": {},
   "outputs": [
    {
     "data": {
      "text/plain": [
       "2"
      ]
     },
     "execution_count": 5,
     "metadata": {},
     "output_type": "execute_result"
    },
    {
     "data": {
      "image/png": "[encoded data removed]",
      "text/plain": [
       "<Figure size 432x288 with 1 Axes>"
      ]
     },
     "metadata": {
      "needs_background": "light"
     },
     "output_type": "display_data"
    }
   ],
   "source": [
    "(x_train, y_train),(x_test, y_test) = tf.keras.datasets.mnist.load_data()\n",
    "plt.imshow(x_train[5],cmap='gray')\n",
    "y_train[5]"
   ]
  },
  {
   "cell_type": "code",
   "execution_count": 19,
   "id": "2dd12522-ee2e-489f-93f4-8c7bfcffa909",
   "metadata": {},
   "outputs": [
    {
     "name": "stdout",
     "output_type": "stream",
     "text": [
      "Forest: 2 trees with 12 features :: Accuracy: 52.849999999999994\n",
      "Forest: 2 trees with 24 features :: Accuracy: 56.38999999999999\n",
      "Forest: 2 trees with 48 features :: Accuracy: 59.78\n",
      "Forest: 2 trees with 96 features :: Accuracy: 58.48\n",
      "Forest: 2 trees with 192 features :: Accuracy: 55.61000000000001\n",
      "Forest: 4 trees with 12 features :: Accuracy: 63.09\n",
      "Forest: 4 trees with 24 features :: Accuracy: 67.75\n",
      "Forest: 4 trees with 48 features :: Accuracy: 68.23\n",
      "Forest: 4 trees with 96 features :: Accuracy: 71.00999999999999\n",
      "Forest: 4 trees with 192 features :: Accuracy: 69.32000000000001\n",
      "Forest: 8 trees with 12 features :: Accuracy: 74.28\n",
      "Forest: 8 trees with 24 features :: Accuracy: 72.00999999999999\n",
      "Forest: 8 trees with 48 features :: Accuracy: 73.88\n",
      "Forest: 8 trees with 96 features :: Accuracy: 73.42999999999999\n",
      "Forest: 8 trees with 192 features :: Accuracy: 72.96000000000001\n",
      "Forest: 16 trees with 12 features :: Accuracy: 77.61\n",
      "Forest: 16 trees with 24 features :: Accuracy: 79.17999999999999\n",
      "Forest: 16 trees with 48 features :: Accuracy: 79.47999999999999\n",
      "Forest: 16 trees with 96 features :: Accuracy: 78.91\n",
      "Forest: 16 trees with 192 features :: Accuracy: 75.38\n",
      "Forest: 32 trees with 12 features :: Accuracy: 80.27\n",
      "Forest: 32 trees with 24 features :: Accuracy: 80.30000000000001\n",
      "Forest: 32 trees with 48 features :: Accuracy: 80.71000000000001\n",
      "Forest: 32 trees with 96 features :: Accuracy: 79.67\n",
      "Forest: 32 trees with 192 features :: Accuracy: 78.66\n",
      "Forest: 64 trees with 12 features :: Accuracy: 81.95\n",
      "Forest: 64 trees with 24 features :: Accuracy: 81.17999999999999\n",
      "Forest: 64 trees with 48 features :: Accuracy: 80.89\n",
      "Forest: 64 trees with 96 features :: Accuracy: 80.60000000000001\n",
      "Forest: 64 trees with 192 features :: Accuracy: 79.22\n",
      "Forest: 128 trees with 12 features :: Accuracy: 82.74000000000001\n",
      "Forest: 128 trees with 24 features :: Accuracy: 82.32000000000001\n",
      "Forest: 128 trees with 48 features :: Accuracy: 81.19\n",
      "Forest: 128 trees with 96 features :: Accuracy: 80.96\n",
      "Forest: 128 trees with 192 features :: Accuracy: 80.38\n"
     ]
    }
   ],
   "source": [
    "x_test = x_test.reshape(-1,28*28)\n",
    "x_train = x_train.reshape(-1, 28*28)\n",
    "for trees in [2,4,8,16,32,64,128]:\n",
    "    for features in [12, 24, 48, 96, 192]:\n",
    "        forest = RandomForestClassifier(n_estimators=trees, max_depth=4, n_jobs=-1, max_samples=0.05, max_features = features)\n",
    "        forest.fit(x_train, y_train)\n",
    "        print(f'Forest: {trees} trees with {features} features :: Accuracy: {accuracy(y_test, forest.predict(x_test))}')"
   ]
  },
  {
   "cell_type": "code",
   "execution_count": 20,
   "id": "be88cd94-eddd-4738-998c-8e55e6144066",
   "metadata": {},
   "outputs": [
    {
     "name": "stderr",
     "output_type": "stream",
     "text": [
      "[Parallel(n_jobs=-1)]: Using backend ThreadingBackend with 16 concurrent workers.\n",
      "[Parallel(n_jobs=-1)]: Done  18 tasks      | elapsed:    0.4s\n",
      "[Parallel(n_jobs=-1)]: Done 168 tasks      | elapsed:    2.6s\n",
      "[Parallel(n_jobs=-1)]: Done 418 tasks      | elapsed:    6.4s\n",
      "[Parallel(n_jobs=-1)]: Done 768 tasks      | elapsed:   11.5s\n",
      "[Parallel(n_jobs=-1)]: Done 1000 out of 1000 | elapsed:   15.0s finished\n",
      "[Parallel(n_jobs=16)]: Using backend ThreadingBackend with 16 concurrent workers.\n",
      "[Parallel(n_jobs=16)]: Done  18 tasks      | elapsed:    0.0s\n",
      "[Parallel(n_jobs=16)]: Done 168 tasks      | elapsed:    0.1s\n",
      "[Parallel(n_jobs=16)]: Done 418 tasks      | elapsed:    0.3s\n",
      "[Parallel(n_jobs=16)]: Done 768 tasks      | elapsed:    0.7s\n"
     ]
    },
    {
     "name": "stdout",
     "output_type": "stream",
     "text": [
      "Forest: 128 trees with 192 features :: Accuracy: 96.36\n"
     ]
    },
    {
     "name": "stderr",
     "output_type": "stream",
     "text": [
      "[Parallel(n_jobs=16)]: Done 1000 out of 1000 | elapsed:    0.9s finished\n"
     ]
    }
   ],
   "source": [
    "forest = RandomForestClassifier(n_estimators=1000, n_jobs=-1, max_samples=0.25, max_features = 24, verbose=True)\n",
    "forest.fit(x_train, y_train)\n",
    "print(f'Forest: {trees} trees with {features} features :: Accuracy: {accuracy(y_test, forest.predict(x_test))}')"
   ]
  },
  {
   "cell_type": "code",
   "execution_count": 21,
   "id": "4e4ff305-71a3-4224-a298-debd71a5084c",
   "metadata": {},
   "outputs": [
    {
     "name": "stderr",
     "output_type": "stream",
     "text": [
      "[Parallel(n_jobs=16)]: Using backend ThreadingBackend with 16 concurrent workers.\n",
      "[Parallel(n_jobs=16)]: Done  18 tasks      | elapsed:    0.0s\n",
      "[Parallel(n_jobs=16)]: Done 168 tasks      | elapsed:    0.1s\n",
      "[Parallel(n_jobs=16)]: Done 418 tasks      | elapsed:    0.4s\n",
      "[Parallel(n_jobs=16)]: Done 768 tasks      | elapsed:    0.7s\n",
      "[Parallel(n_jobs=16)]: Done 1000 out of 1000 | elapsed:    1.0s finished\n"
     ]
    },
    {
     "data": {
      "image/png": "[encoded data removed]",
      "text/plain": [
       "<Figure size 720x720 with 25 Axes>"
      ]
     },
     "metadata": {
      "needs_background": "light"
     },
     "output_type": "display_data"
    }
   ],
   "source": [
    "import random\n",
    "\n",
    "predictions = forest.predict(x_test)\n",
    "(figure, axes) = plt.subplots(5,5,figsize=(10,10))\n",
    "for ax in axes.flat:\n",
    "    image = random.randrange(len(x_test))\n",
    "    ax.set_title(f'Y: {y_test[image]} Y^: {predictions[image]}')\n",
    "    ax.imshow(x_test[image].reshape(28,28), cmap='gray')\n",
    "plt.tight_layout()\n",
    "plt.show()"
   ]
  },
  {
   "cell_type": "code",
   "execution_count": null,
   "id": "a5fcac1f-6e84-4903-97f2-969324edb18b",
   "metadata": {},
   "outputs": [],
   "source": []
  },
  {
   "cell_type": "code",
   "execution_count": 6,
   "id": "46745644-5787-4471-a122-e994209da6f2",
   "metadata": {},
   "outputs": [],
   "source": [
    "a = np.zeros(100)"
   ]
  },
  {
   "cell_type": "code",
   "execution_count": 7,
   "id": "60a0e966-febf-408d-b2e2-328803500a38",
   "metadata": {},
   "outputs": [
    {
     "data": {
      "text/plain": [
       "(100,)"
      ]
     },
     "execution_count": 7,
     "metadata": {},
     "output_type": "execute_result"
    }
   ],
   "source": [
    "a.shape"
   ]
  },
  {
   "cell_type": "code",
   "execution_count": 18,
   "id": "8606467c-c77a-489d-b5b1-7ce5cb282b3f",
   "metadata": {},
   "outputs": [
    {
     "data": {
      "text/plain": [
       "array([[[0.],\n",
       "        [0.],\n",
       "        [0.],\n",
       "        [0.],\n",
       "        [0.],\n",
       "        [0.],\n",
       "        [0.],\n",
       "        [0.],\n",
       "        [0.],\n",
       "        [0.],\n",
       "        [0.],\n",
       "        [0.],\n",
       "        [0.],\n",
       "        [0.],\n",
       "        [0.],\n",
       "        [0.],\n",
       "        [0.],\n",
       "        [0.],\n",
       "        [0.],\n",
       "        [0.]],\n",
       "\n",
       "       [[0.],\n",
       "        [0.],\n",
       "        [0.],\n",
       "        [0.],\n",
       "        [0.],\n",
       "        [0.],\n",
       "        [0.],\n",
       "        [0.],\n",
       "        [0.],\n",
       "        [0.],\n",
       "        [0.],\n",
       "        [0.],\n",
       "        [0.],\n",
       "        [0.],\n",
       "        [0.],\n",
       "        [0.],\n",
       "        [0.],\n",
       "        [0.],\n",
       "        [0.],\n",
       "        [0.]],\n",
       "\n",
       "       [[0.],\n",
       "        [0.],\n",
       "        [0.],\n",
       "        [0.],\n",
       "        [0.],\n",
       "        [0.],\n",
       "        [0.],\n",
       "        [0.],\n",
       "        [0.],\n",
       "        [0.],\n",
       "        [0.],\n",
       "        [0.],\n",
       "        [0.],\n",
       "        [0.],\n",
       "        [0.],\n",
       "        [0.],\n",
       "        [0.],\n",
       "        [0.],\n",
       "        [0.],\n",
       "        [0.]],\n",
       "\n",
       "       [[0.],\n",
       "        [0.],\n",
       "        [0.],\n",
       "        [0.],\n",
       "        [0.],\n",
       "        [0.],\n",
       "        [0.],\n",
       "        [0.],\n",
       "        [0.],\n",
       "        [0.],\n",
       "        [0.],\n",
       "        [0.],\n",
       "        [0.],\n",
       "        [0.],\n",
       "        [0.],\n",
       "        [0.],\n",
       "        [0.],\n",
       "        [0.],\n",
       "        [0.],\n",
       "        [0.]],\n",
       "\n",
       "       [[0.],\n",
       "        [0.],\n",
       "        [0.],\n",
       "        [0.],\n",
       "        [0.],\n",
       "        [0.],\n",
       "        [0.],\n",
       "        [0.],\n",
       "        [0.],\n",
       "        [0.],\n",
       "        [0.],\n",
       "        [0.],\n",
       "        [0.],\n",
       "        [0.],\n",
       "        [0.],\n",
       "        [0.],\n",
       "        [0.],\n",
       "        [0.],\n",
       "        [0.],\n",
       "        [0.]]])"
      ]
     },
     "execution_count": 18,
     "metadata": {},
     "output_type": "execute_result"
    }
   ],
   "source": []
  },
  {
   "cell_type": "code",
   "execution_count": null,
   "id": "34e63472-20c2-443a-bdaa-cc41dd407582",
   "metadata": {},
   "outputs": [],
   "source": []
  }
 ],
 "metadata": {
  "kernelspec": {
   "display_name": "Python 3",
   "language": "python",
   "name": "python3"
  },
  "language_info": {
   "codemirror_mode": {
    "name": "ipython",
    "version": 3
   },
   "file_extension": ".py",
   "mimetype": "text/x-python",
   "name": "python",
   "nbconvert_exporter": "python",
   "pygments_lexer": "ipython3",
   "version": "3.8.8"
  }
 },
 "nbformat": 4,
 "nbformat_minor": 5
}
